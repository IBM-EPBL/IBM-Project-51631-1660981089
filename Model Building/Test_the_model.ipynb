{
 "cells": [
  {
   "cell_type": "code",
   "execution_count": 1,
   "metadata": {
    "id": "5wlMmR4XjoPh"
   },
   "outputs": [],
   "source": [
    "import pandas as pd\n",
    "import numpy as np\n",
    "import matplotlib.pyplot as plt"
   ]
  },
  {
   "cell_type": "code",
   "execution_count": 2,
   "metadata": {
    "colab": {
     "base_uri": "https://localhost:8080/"
    },
    "id": "HpJPk3DUder0",
    "outputId": "4b1fc4cb-743f-49c7-fd77-a9a2d55e7408"
   },
   "outputs": [
    {
     "name": "stdout",
     "output_type": "stream",
     "text": [
      "            Closing Value\n",
      "Date                     \n",
      "1986-01-02          25.56\n",
      "1986-01-03          26.00\n",
      "1986-01-06          26.53\n",
      "1986-01-07          25.85\n",
      "1986-01-08          25.87\n"
     ]
    }
   ],
   "source": [
    "import requests\n",
    "import io\n",
    "url = r\"https://github.com/IBM-EPBL/IBM-Project-51631-1660981089/blob/main/Data%20Collection/DataSet1986-2018.xlsx?raw=true\"\n",
    "download = requests.get(url).content\n",
    "data = pd.read_excel(url,index_col=0,parse_dates=[0])\n",
    "print(data.head())"
   ]
  },
  {
   "cell_type": "code",
   "execution_count": 3,
   "metadata": {
    "colab": {
     "base_uri": "https://localhost:8080/"
    },
    "id": "cM0tDk5Oe5FR",
    "outputId": "47efc066-9c64-41c4-b356-9881ecd3e349"
   },
   "outputs": [
    {
     "data": {
      "text/plain": [
       "0       25.56\n",
       "1       26.00\n",
       "2       26.53\n",
       "3       25.85\n",
       "4       25.87\n",
       "        ...  \n",
       "8211    73.89\n",
       "8212    74.19\n",
       "8213    73.05\n",
       "8214    73.78\n",
       "8215    73.93\n",
       "Name: Closing Value, Length: 8216, dtype: float64"
      ]
     },
     "execution_count": 3,
     "metadata": {},
     "output_type": "execute_result"
    }
   ],
   "source": [
    "data.isnull().any()\n",
    "data.isnull().sum()\n",
    "data.dropna(axis = 0, inplace = True)\n",
    "data.isnull().sum()\n",
    "data_oil = data.reset_index()['Closing Value']\n",
    "data_oil"
   ]
  },
  {
   "cell_type": "code",
   "execution_count": 4,
   "metadata": {
    "id": "I_RhiQ4EfkDO"
   },
   "outputs": [],
   "source": [
    "from sklearn.preprocessing import MinMaxScaler\n",
    "scaler=MinMaxScaler (feature_range=(0,1))\n",
    "data_oil=scaler.fit_transform(np.array(data_oil).reshape(-1,1))"
   ]
  },
  {
   "cell_type": "code",
   "execution_count": 5,
   "metadata": {
    "colab": {
     "base_uri": "https://localhost:8080/",
     "height": 282
    },
    "id": "voXa2JVmf6FD",
    "outputId": "a04f439e-5ec5-482b-c163-728caefefd12"
   },
   "outputs": [
    {
     "data": {
      "text/plain": [
       "[<matplotlib.lines.Line2D at 0x7f7b95e636d0>]"
      ]
     },
     "execution_count": 5,
     "metadata": {},
     "output_type": "execute_result"
    },
    {
     "data": {
      "image/png": "[encoded data removed]",
      "text/plain": [
       "<Figure size 432x288 with 1 Axes>"
      ]
     },
     "metadata": {
      "needs_background": "light"
     },
     "output_type": "display_data"
    }
   ],
   "source": [
    "plt.plot(data_oil)"
   ]
  },
  {
   "cell_type": "code",
   "execution_count": 6,
   "metadata": {
    "colab": {
     "base_uri": "https://localhost:8080/"
    },
    "id": "ZYhkcX9ygVSI",
    "outputId": "f52e05cb-c826-4f15-f278-63a8a93ad86c"
   },
   "outputs": [
    {
     "data": {
      "text/plain": [
       "(5340, 1)"
      ]
     },
     "execution_count": 6,
     "metadata": {},
     "output_type": "execute_result"
    }
   ],
   "source": [
    "training_size=int(len(data_oil)*0.65)\n",
    "test_size=len(data_oil)-training_size\n",
    "train_data, test_data=data_oil[0:training_size,:],data_oil[training_size:len(data_oil),:1]\n",
    "training_size,test_size\n",
    "train_data.shape"
   ]
  },
  {
   "cell_type": "code",
   "execution_count": 7,
   "metadata": {
    "colab": {
     "base_uri": "https://localhost:8080/"
    },
    "id": "OLx0Xy9tguJN",
    "outputId": "384ec2bd-ff84-4e4a-9635-4d2628f55cd6"
   },
   "outputs": [
    {
     "name": "stdout",
     "output_type": "stream",
     "text": [
      "(5329, 10)\n",
      "(5329,)\n",
      "(2865, 10)\n",
      "(2865,)\n"
     ]
    }
   ],
   "source": [
    "def create_dataset(dataset, time_step=1): \n",
    "  dataX, dataY = [], [] \n",
    "  for i in range(len(dataset)-time_step-1):\n",
    "    a = dataset[i:(i+time_step), 0]\n",
    "    dataX.append(a)\n",
    "    dataY.append(dataset[i + time_step, 0])\n",
    "  return np.array(dataX), np.array(dataY)\n",
    "  \n",
    "time_step = 10\n",
    "X_train, y_train = create_dataset(train_data, time_step)\n",
    "X_test, ytest = create_dataset(test_data, time_step)\n",
    "print(X_train.shape), print(y_train.shape)\n",
    "print(X_test.shape), print(ytest.shape)\n",
    "X_train =X_train.reshape(X_train.shape[0],X_train.shape[1],1)\n",
    "X_test= X_test.reshape(X_test.shape[0],X_test.shape[1],1)"
   ]
  },
  {
   "cell_type": "code",
   "execution_count": 8,
   "metadata": {
    "id": "1RMxVixNi0HZ"
   },
   "outputs": [],
   "source": [
    "from tensorflow.keras.models import Sequential\n",
    "from tensorflow.keras.layers import Dense\n",
    "from tensorflow.keras.layers import LSTM"
   ]
  },
  {
   "cell_type": "code",
   "execution_count": 9,
   "metadata": {
    "id": "xNQ0parnjeCI"
   },
   "outputs": [],
   "source": [
    "model = Sequential()"
   ]
  },
  {
   "cell_type": "code",
   "execution_count": 10,
   "metadata": {
    "id": "9nZ8cJYXjn7i"
   },
   "outputs": [],
   "source": [
    "model.add(LSTM(50,return_sequences=True,input_shape=(10,1)))\n",
    "model.add(LSTM(50, return_sequences=True))\n",
    "model.add(LSTM(50))"
   ]
  },
  {
   "cell_type": "code",
   "execution_count": 11,
   "metadata": {
    "colab": {
     "base_uri": "https://localhost:8080/"
    },
    "id": "AQFt84lBjvoB",
    "outputId": "3af8b0ef-ffda-4476-bb80-f4f80d9b0c2e"
   },
   "outputs": [
    {
     "name": "stdout",
     "output_type": "stream",
     "text": [
      "Model: \"sequential\"\n",
      "_________________________________________________________________\n",
      " Layer (type)                Output Shape              Param #   \n",
      "=================================================================\n",
      " lstm (LSTM)                 (None, 10, 50)            10400     \n",
      "                                                                 \n",
      " lstm_1 (LSTM)               (None, 10, 50)            20200     \n",
      "                                                                 \n",
      " lstm_2 (LSTM)               (None, 50)                20200     \n",
      "                                                                 \n",
      " dense (Dense)               (None, 1)                 51        \n",
      "                                                                 \n",
      "=================================================================\n",
      "Total params: 50,851\n",
      "Trainable params: 50,851\n",
      "Non-trainable params: 0\n",
      "_________________________________________________________________\n"
     ]
    }
   ],
   "source": [
    "model.add(Dense (1))\n",
    "model.summary()"
   ]
  },
  {
   "cell_type": "code",
   "execution_count": 12,
   "metadata": {
    "id": "l5OuN6oVj3Yf"
   },
   "outputs": [],
   "source": [
    "model.compile(loss= 'mean_squared_error', optimizer='adam')"
   ]
  },
  {
   "cell_type": "code",
   "execution_count": 13,
   "metadata": {
    "colab": {
     "base_uri": "https://localhost:8080/"
    },
    "id": "LPkJqBkTlE9s",
    "outputId": "2615a723-a88f-4865-8a37-c5476d3969cf"
   },
   "outputs": [
    {
     "name": "stdout",
     "output_type": "stream",
     "text": [
      "Epoch 1/50\n",
      "84/84 [==============================] - 7s 36ms/step - loss: 0.0021 - val_loss: 8.2421e-04\n",
      "Epoch 2/50\n",
      "84/84 [==============================] - 2s 22ms/step - loss: 1.2861e-04 - val_loss: 8.6847e-04\n",
      "Epoch 3/50\n",
      "84/84 [==============================] - 2s 21ms/step - loss: 1.2165e-04 - val_loss: 9.8453e-04\n",
      "Epoch 4/50\n",
      "84/84 [==============================] - 2s 23ms/step - loss: 1.2883e-04 - val_loss: 9.4918e-04\n",
      "Epoch 5/50\n",
      "84/84 [==============================] - 2s 25ms/step - loss: 1.2959e-04 - val_loss: 0.0017\n",
      "Epoch 6/50\n",
      "84/84 [==============================] - 2s 22ms/step - loss: 1.1939e-04 - val_loss: 0.0020\n",
      "Epoch 7/50\n",
      "84/84 [==============================] - 2s 24ms/step - loss: 1.2095e-04 - val_loss: 8.0621e-04\n",
      "Epoch 8/50\n",
      "84/84 [==============================] - 2s 21ms/step - loss: 1.2042e-04 - val_loss: 0.0012\n",
      "Epoch 9/50\n",
      "84/84 [==============================] - 2s 18ms/step - loss: 1.2002e-04 - val_loss: 8.6224e-04\n",
      "Epoch 10/50\n",
      "84/84 [==============================] - 2s 21ms/step - loss: 1.2288e-04 - val_loss: 0.0018\n",
      "Epoch 11/50\n",
      "84/84 [==============================] - 2s 20ms/step - loss: 1.1217e-04 - val_loss: 9.0060e-04\n",
      "Epoch 12/50\n",
      "84/84 [==============================] - 2s 25ms/step - loss: 1.0650e-04 - val_loss: 7.5883e-04\n",
      "Epoch 13/50\n",
      "84/84 [==============================] - 2s 21ms/step - loss: 1.0265e-04 - val_loss: 6.0245e-04\n",
      "Epoch 14/50\n",
      "84/84 [==============================] - 2s 24ms/step - loss: 9.5365e-05 - val_loss: 6.5363e-04\n",
      "Epoch 15/50\n",
      "84/84 [==============================] - 2s 24ms/step - loss: 9.4065e-05 - val_loss: 8.6450e-04\n",
      "Epoch 16/50\n",
      "84/84 [==============================] - 2s 22ms/step - loss: 9.6225e-05 - val_loss: 6.0422e-04\n",
      "Epoch 17/50\n",
      "84/84 [==============================] - 2s 20ms/step - loss: 8.4346e-05 - val_loss: 8.5275e-04\n",
      "Epoch 18/50\n",
      "84/84 [==============================] - 2s 24ms/step - loss: 8.5451e-05 - val_loss: 0.0027\n",
      "Epoch 19/50\n",
      "84/84 [==============================] - 2s 24ms/step - loss: 8.7917e-05 - val_loss: 8.4802e-04\n",
      "Epoch 20/50\n",
      "84/84 [==============================] - 2s 22ms/step - loss: 7.4049e-05 - val_loss: 5.2438e-04\n",
      "Epoch 21/50\n",
      "84/84 [==============================] - 2s 20ms/step - loss: 7.3655e-05 - val_loss: 4.5216e-04\n",
      "Epoch 22/50\n",
      "84/84 [==============================] - 2s 20ms/step - loss: 7.2365e-05 - val_loss: 5.6381e-04\n",
      "Epoch 23/50\n",
      "84/84 [==============================] - 2s 22ms/step - loss: 6.8060e-05 - val_loss: 4.7808e-04\n",
      "Epoch 24/50\n",
      "84/84 [==============================] - 2s 23ms/step - loss: 8.1055e-05 - val_loss: 4.4104e-04\n",
      "Epoch 25/50\n",
      "84/84 [==============================] - 2s 23ms/step - loss: 7.3293e-05 - val_loss: 3.6777e-04\n",
      "Epoch 26/50\n",
      "84/84 [==============================] - 2s 19ms/step - loss: 6.2799e-05 - val_loss: 5.3078e-04\n",
      "Epoch 27/50\n",
      "84/84 [==============================] - 2s 21ms/step - loss: 6.5046e-05 - val_loss: 4.4957e-04\n",
      "Epoch 28/50\n",
      "84/84 [==============================] - 2s 22ms/step - loss: 6.3610e-05 - val_loss: 2.7176e-04\n",
      "Epoch 29/50\n",
      "84/84 [==============================] - 2s 22ms/step - loss: 5.6309e-05 - val_loss: 2.7900e-04\n",
      "Epoch 30/50\n",
      "84/84 [==============================] - 2s 22ms/step - loss: 5.4267e-05 - val_loss: 3.9938e-04\n",
      "Epoch 31/50\n",
      "84/84 [==============================] - 2s 23ms/step - loss: 5.3792e-05 - val_loss: 6.6038e-04\n",
      "Epoch 32/50\n",
      "84/84 [==============================] - 2s 20ms/step - loss: 5.0448e-05 - val_loss: 2.3559e-04\n",
      "Epoch 33/50\n",
      "84/84 [==============================] - 2s 23ms/step - loss: 4.8861e-05 - val_loss: 2.6017e-04\n",
      "Epoch 34/50\n",
      "84/84 [==============================] - 2s 22ms/step - loss: 4.6500e-05 - val_loss: 6.2186e-04\n",
      "Epoch 35/50\n",
      "84/84 [==============================] - 2s 24ms/step - loss: 6.0410e-05 - val_loss: 2.7311e-04\n",
      "Epoch 36/50\n",
      "84/84 [==============================] - 2s 23ms/step - loss: 4.2587e-05 - val_loss: 3.1552e-04\n",
      "Epoch 37/50\n",
      "84/84 [==============================] - 2s 20ms/step - loss: 4.7226e-05 - val_loss: 1.9878e-04\n",
      "Epoch 38/50\n",
      "84/84 [==============================] - 2s 24ms/step - loss: 3.9561e-05 - val_loss: 3.0510e-04\n",
      "Epoch 39/50\n",
      "84/84 [==============================] - 2s 20ms/step - loss: 3.9351e-05 - val_loss: 2.0067e-04\n",
      "Epoch 40/50\n",
      "84/84 [==============================] - 2s 22ms/step - loss: 3.8608e-05 - val_loss: 2.3780e-04\n",
      "Epoch 41/50\n",
      "84/84 [==============================] - 2s 20ms/step - loss: 4.1118e-05 - val_loss: 2.0186e-04\n",
      "Epoch 42/50\n",
      "84/84 [==============================] - 2s 21ms/step - loss: 3.7265e-05 - val_loss: 1.9312e-04\n",
      "Epoch 43/50\n",
      "84/84 [==============================] - 2s 24ms/step - loss: 3.8712e-05 - val_loss: 1.8254e-04\n",
      "Epoch 44/50\n",
      "84/84 [==============================] - 2s 24ms/step - loss: 3.6949e-05 - val_loss: 4.5382e-04\n",
      "Epoch 45/50\n",
      "84/84 [==============================] - 2s 22ms/step - loss: 3.7204e-05 - val_loss: 2.1325e-04\n",
      "Epoch 46/50\n",
      "84/84 [==============================] - 2s 20ms/step - loss: 3.4976e-05 - val_loss: 1.8358e-04\n",
      "Epoch 47/50\n",
      "84/84 [==============================] - 2s 21ms/step - loss: 3.6384e-05 - val_loss: 1.8310e-04\n",
      "Epoch 48/50\n",
      "84/84 [==============================] - 2s 22ms/step - loss: 3.6389e-05 - val_loss: 1.8607e-04\n",
      "Epoch 49/50\n",
      "84/84 [==============================] - 2s 21ms/step - loss: 3.3506e-05 - val_loss: 2.5569e-04\n",
      "Epoch 50/50\n",
      "84/84 [==============================] - 2s 20ms/step - loss: 3.5274e-05 - val_loss: 4.2967e-04\n"
     ]
    },
    {
     "data": {
      "text/plain": [
       "<keras.callbacks.History at 0x7f7b701b52b0>"
      ]
     },
     "execution_count": 13,
     "metadata": {},
     "output_type": "execute_result"
    }
   ],
   "source": [
    "model.fit(X_train,y_train,validation_data=(X_test,ytest), epochs=50,batch_size=64, verbose = 1)"
   ]
  },
  {
   "cell_type": "code",
   "execution_count": 14,
   "metadata": {
    "colab": {
     "base_uri": "https://localhost:8080/"
    },
    "id": "jY6yN7HtmMLm",
    "outputId": "f9e6df8a-da43-408a-a414-8321ae8800d4"
   },
   "outputs": [
    {
     "data": {
      "text/plain": [
       "30.093382477515718"
      ]
     },
     "execution_count": 14,
     "metadata": {},
     "output_type": "execute_result"
    }
   ],
   "source": [
    "train_predict = model.predict(X_train)\n",
    "test_predict = model.predict(X_test)\n",
    "train_predict = scaler.inverse_transform(train_predict)\n",
    "test_predict = scaler.inverse_transform(test_predict)\n",
    "\n",
    "import math \n",
    "from sklearn.metrics import mean_squared_error \n",
    "math.sqrt(mean_squared_error(y_train,train_predict))"
   ]
  },
  {
   "cell_type": "code",
   "execution_count": 15,
   "metadata": {
    "id": "nqJxeGTtpln4"
   },
   "outputs": [],
   "source": [
    "from tensorflow.keras.models import load_model\n",
    "model.save(\"crude_oil.h5\")"
   ]
  },
  {
   "cell_type": "code",
   "execution_count": 16,
   "metadata": {
    "colab": {
     "base_uri": "https://localhost:8080/",
     "height": 1000
    },
    "id": "8zTdNFpWptNg",
    "outputId": "be2e7bdf-61c6-4054-a74b-93e5f32c6cff"
   },
   "outputs": [
    {
     "data": {
      "image/png": "[encoded data removed]",
      "text/plain": [
       "<Figure size 432x288 with 1 Axes>"
      ]
     },
     "metadata": {
      "needs_background": "light"
     },
     "output_type": "display_data"
    },
    {
     "name": "stdout",
     "output_type": "stream",
     "text": [
      "[0.48953474]\n",
      "11\n",
      "1 day input [0.4811195  0.49726048 0.46794017 0.47297497 0.47119799 0.47341922\n",
      " 0.46497853 0.47038353 0.47149415 0.48953474]\n",
      "1 day output [[0.5098016]]\n",
      "2 day input [0.49726048 0.46794017 0.47297497 0.47119799 0.47341922 0.46497853\n",
      " 0.47038353 0.47149415 0.48953474 0.50980163]\n",
      "2 day output [[0.5318037]]\n",
      "3 day input [0.46794017 0.47297497 0.47119799 0.47341922 0.46497853 0.47038353\n",
      " 0.47149415 0.48953474 0.50980163 0.53180373]\n",
      "3 day output [[0.55358696]]\n",
      "4 day input [0.47297497 0.47119799 0.47341922 0.46497853 0.47038353 0.47149415\n",
      " 0.48953474 0.50980163 0.53180373 0.55358696]\n",
      "4 day output [[0.57435393]]\n",
      "5 day input [0.47119799 0.47341922 0.46497853 0.47038353 0.47149415 0.48953474\n",
      " 0.50980163 0.53180373 0.55358696 0.57435393]\n",
      "5 day output [[0.59365773]]\n",
      "6 day input [0.47341922 0.46497853 0.47038353 0.47149415 0.48953474 0.50980163\n",
      " 0.53180373 0.55358696 0.57435393 0.59365773]\n",
      "6 day output [[0.6115987]]\n",
      "7 day input [0.46497853 0.47038353 0.47149415 0.48953474 0.50980163 0.53180373\n",
      " 0.55358696 0.57435393 0.59365773 0.61159867]\n",
      "7 day output [[0.62854785]]\n",
      "8 day input [0.47038353 0.47149415 0.48953474 0.50980163 0.53180373 0.55358696\n",
      " 0.57435393 0.59365773 0.61159867 0.62854785]\n",
      "8 day output [[0.645088]]\n",
      "9 day input [0.47149415 0.48953474 0.50980163 0.53180373 0.55358696 0.57435393\n",
      " 0.59365773 0.61159867 0.62854785 0.64508802]\n",
      "9 day output [[0.66170293]]\n"
     ]
    },
    {
     "data": {
      "image/png": "[encoded data removed]",
      "text/plain": [
       "<Figure size 432x288 with 1 Axes>"
      ]
     },
     "metadata": {
      "needs_background": "light"
     },
     "output_type": "display_data"
    }
   ],
   "source": [
    "look_back=10\n",
    "trainpredictPlot = np.empty_like(data_oil)\n",
    "trainpredictPlot[:, :] = np.nan\n",
    "trainpredictPlot[look_back:len(train_predict)+look_back, :] = train_predict\n",
    "\n",
    "testPredictPlot = np.empty_like(data_oil)\n",
    "testPredictPlot[:, :] = np.nan\n",
    "testPredictPlot[len(train_predict)+(look_back*2)+1:len(data_oil)-1, :] = test_predict\n",
    "\n",
    "plt.plot(scaler.inverse_transform(data_oil))\n",
    "plt.plot(trainpredictPlot)\n",
    "plt.plot(testPredictPlot)\n",
    "plt.show()\n",
    "\n",
    "len(test_data)\n",
    "x_input=test_data[2866:].reshape(1,-1)\n",
    "x_input.shape\n",
    "temp_input=list(x_input)\n",
    "temp_input=temp_input[0].tolist()\n",
    "temp_input\n",
    "\n",
    "lst_output=[]\n",
    "n_steps=10\n",
    "i=0\n",
    "while(i<10):\n",
    "  if(len(temp_input)>10):\n",
    "\n",
    "    x_input=np.array(temp_input[1:]) \n",
    "    print(\"{} day input {}\".format(i,x_input))\n",
    "    x_input=x_input.reshape(1,-1)\n",
    "    x_input = x_input.reshape((1, n_steps, 1))\n",
    "\n",
    "    yhat = model.predict(x_input, verbose=0)\n",
    "    print(\"{} day output {}\".format(i,yhat))\n",
    "    temp_input.extend(yhat[0].tolist())\n",
    "    temp_input=temp_input[1:] #print(temp_input)\n",
    "    lst_output.extend(yhat.tolist())\n",
    "    i=i+1\n",
    "  else:\n",
    "    x_input = x_input.reshape((1, n_steps,1))\n",
    "    yhat = model.predict(x_input, verbose=0) \n",
    "    print(yhat[0]) \n",
    "    temp_input.extend(yhat[0].tolist()) \n",
    "    print(len(temp_input)) \n",
    "    lst_output.extend(yhat.tolist()) \n",
    "    i=i+1\n",
    "\n",
    "day_new=np.arange(1,11)\n",
    "day_pred=np.arange(11,21)\n",
    "len(data_oil)\n",
    "\n",
    "plt.plot(day_new, scaler.inverse_transform(data_oil[8206:]))\n",
    "plt.plot(day_pred, scaler.inverse_transform(lst_output))\n",
    "\n",
    "df3=data_oil.tolist()\n",
    "df3.extend(lst_output)\n",
    "plt.plot(df3[8100:])\n",
    "\n",
    "df3=scaler.inverse_transform(df3).tolist()"
   ]
  },
  {
   "cell_type": "code",
   "execution_count": null,
   "metadata": {},
   "outputs": [],
   "source": []
  }
 ],
 "metadata": {
  "colab": {
   "provenance": []
  },
  "kernelspec": {
   "display_name": "Python 3.9",
   "language": "python",
   "name": "python3"
  },
  "language_info": {
   "codemirror_mode": {
    "name": "ipython",
    "version": 3
   },
   "file_extension": ".py",
   "mimetype": "text/x-python",
   "name": "python",
   "nbconvert_exporter": "python",
   "pygments_lexer": "ipython3",
   "version": "3.9.13"
  }
 },
 "nbformat": 4,
 "nbformat_minor": 1
}
