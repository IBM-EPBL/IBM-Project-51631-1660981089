{
 "cells": [
  {
   "cell_type": "code",
   "execution_count": 1,
   "metadata": {
    "id": "5wlMmR4XjoPh"
   },
   "outputs": [],
   "source": [
    "import pandas as pd\n",
    "import numpy as np\n",
    "import matplotlib.pyplot as plt"
   ]
  },
  {
   "cell_type": "code",
   "execution_count": 2,
   "metadata": {
    "colab": {
     "base_uri": "https://localhost:8080/"
    },
    "id": "HpJPk3DUder0",
    "outputId": "4b1fc4cb-743f-49c7-fd77-a9a2d55e7408"
   },
   "outputs": [
    {
     "name": "stdout",
     "output_type": "stream",
     "text": [
      "            Closing Value\n",
      "Date                     \n",
      "1986-01-02          25.56\n",
      "1986-01-03          26.00\n",
      "1986-01-06          26.53\n",
      "1986-01-07          25.85\n",
      "1986-01-08          25.87\n"
     ]
    }
   ],
   "source": [
    "import requests\n",
    "import io\n",
    "url = r\"https://github.com/IBM-EPBL/IBM-Project-51631-1660981089/blob/main/Data%20Collection/DataSet1986-2018.xlsx?raw=true\"\n",
    "download = requests.get(url).content\n",
    "data = pd.read_excel(url,index_col=0,parse_dates=[0])\n",
    "print(data.head())"
   ]
  },
  {
   "cell_type": "code",
   "execution_count": 3,
   "metadata": {
    "colab": {
     "base_uri": "https://localhost:8080/"
    },
    "id": "cM0tDk5Oe5FR",
    "outputId": "47efc066-9c64-41c4-b356-9881ecd3e349"
   },
   "outputs": [
    {
     "data": {
      "text/plain": [
       "0       25.56\n",
       "1       26.00\n",
       "2       26.53\n",
       "3       25.85\n",
       "4       25.87\n",
       "        ...  \n",
       "8211    73.89\n",
       "8212    74.19\n",
       "8213    73.05\n",
       "8214    73.78\n",
       "8215    73.93\n",
       "Name: Closing Value, Length: 8216, dtype: float64"
      ]
     },
     "execution_count": 3,
     "metadata": {},
     "output_type": "execute_result"
    }
   ],
   "source": [
    "data.isnull().any()\n",
    "data.isnull().sum()\n",
    "data.dropna(axis = 0, inplace = True)\n",
    "data.isnull().sum()\n",
    "data_oil = data.reset_index()['Closing Value']\n",
    "data_oil"
   ]
  },
  {
   "cell_type": "code",
   "execution_count": 4,
   "metadata": {
    "id": "I_RhiQ4EfkDO"
   },
   "outputs": [],
   "source": [
    "from sklearn.preprocessing import MinMaxScaler\n",
    "scaler=MinMaxScaler (feature_range=(0,1))\n",
    "data_oil=scaler.fit_transform(np.array(data_oil).reshape(-1,1))"
   ]
  },
  {
   "cell_type": "code",
   "execution_count": 5,
   "metadata": {
    "colab": {
     "base_uri": "https://localhost:8080/",
     "height": 282
    },
    "id": "voXa2JVmf6FD",
    "outputId": "a04f439e-5ec5-482b-c163-728caefefd12"
   },
   "outputs": [
    {
     "data": {
      "text/plain": [
       "[<matplotlib.lines.Line2D at 0x7fecb8dac760>]"
      ]
     },
     "execution_count": 5,
     "metadata": {},
     "output_type": "execute_result"
    },
    {
     "data": {
      "image/png": "[encoded data removed]",
      "text/plain": [
       "<Figure size 432x288 with 1 Axes>"
      ]
     },
     "metadata": {
      "needs_background": "light"
     },
     "output_type": "display_data"
    }
   ],
   "source": [
    "plt.plot(data_oil)"
   ]
  },
  {
   "cell_type": "code",
   "execution_count": 6,
   "metadata": {
    "colab": {
     "base_uri": "https://localhost:8080/"
    },
    "id": "ZYhkcX9ygVSI",
    "outputId": "f52e05cb-c826-4f15-f278-63a8a93ad86c"
   },
   "outputs": [
    {
     "data": {
      "text/plain": [
       "(5340, 1)"
      ]
     },
     "execution_count": 6,
     "metadata": {},
     "output_type": "execute_result"
    }
   ],
   "source": [
    "training_size=int(len(data_oil)*0.65)\n",
    "test_size=len(data_oil)-training_size\n",
    "train_data, test_data=data_oil[0:training_size,:],data_oil[training_size:len(data_oil),:1]\n",
    "training_size,test_size\n",
    "train_data.shape"
   ]
  },
  {
   "cell_type": "code",
   "execution_count": 7,
   "metadata": {
    "colab": {
     "base_uri": "https://localhost:8080/"
    },
    "id": "OLx0Xy9tguJN",
    "outputId": "384ec2bd-ff84-4e4a-9635-4d2628f55cd6"
   },
   "outputs": [
    {
     "name": "stdout",
     "output_type": "stream",
     "text": [
      "(5329, 10)\n",
      "(5329,)\n",
      "(2865, 10)\n",
      "(2865,)\n"
     ]
    }
   ],
   "source": [
    "def create_dataset(dataset, time_step=1): \n",
    "  dataX, dataY = [], [] \n",
    "  for i in range(len(dataset)-time_step-1):\n",
    "    a = dataset[i:(i+time_step), 0]\n",
    "    dataX.append(a)\n",
    "    dataY.append(dataset[i + time_step, 0])\n",
    "  return np.array(dataX), np.array(dataY)\n",
    "  \n",
    "time_step = 10\n",
    "X_train, y_train = create_dataset(train_data, time_step)\n",
    "X_test, ytest = create_dataset(test_data, time_step)\n",
    "print(X_train.shape), print(y_train.shape)\n",
    "print(X_test.shape), print(ytest.shape)\n",
    "X_train =X_train.reshape(X_train.shape[0],X_train.shape[1],1)\n",
    "X_test= X_test.reshape(X_test.shape[0],X_test.shape[1],1)"
   ]
  },
  {
   "cell_type": "code",
   "execution_count": 8,
   "metadata": {
    "id": "1RMxVixNi0HZ"
   },
   "outputs": [],
   "source": [
    "from tensorflow.keras.models import Sequential\n",
    "from tensorflow.keras.layers import Dense\n",
    "from tensorflow.keras.layers import LSTM"
   ]
  },
  {
   "cell_type": "code",
   "execution_count": 9,
   "metadata": {
    "id": "xNQ0parnjeCI"
   },
   "outputs": [],
   "source": [
    "model = Sequential()"
   ]
  },
  {
   "cell_type": "code",
   "execution_count": 10,
   "metadata": {
    "id": "9nZ8cJYXjn7i"
   },
   "outputs": [],
   "source": [
    "model.add(LSTM(50,return_sequences=True,input_shape=(10,1)))\n",
    "model.add(LSTM(50, return_sequences=True))\n",
    "model.add(LSTM(50))"
   ]
  },
  {
   "cell_type": "code",
   "execution_count": 11,
   "metadata": {
    "colab": {
     "base_uri": "https://localhost:8080/"
    },
    "id": "AQFt84lBjvoB",
    "outputId": "3af8b0ef-ffda-4476-bb80-f4f80d9b0c2e"
   },
   "outputs": [
    {
     "name": "stdout",
     "output_type": "stream",
     "text": [
      "Model: \"sequential\"\n",
      "_________________________________________________________________\n",
      " Layer (type)                Output Shape              Param #   \n",
      "=================================================================\n",
      " lstm (LSTM)                 (None, 10, 50)            10400     \n",
      "                                                                 \n",
      " lstm_1 (LSTM)               (None, 10, 50)            20200     \n",
      "                                                                 \n",
      " lstm_2 (LSTM)               (None, 50)                20200     \n",
      "                                                                 \n",
      " dense (Dense)               (None, 1)                 51        \n",
      "                                                                 \n",
      "=================================================================\n",
      "Total params: 50,851\n",
      "Trainable params: 50,851\n",
      "Non-trainable params: 0\n",
      "_________________________________________________________________\n"
     ]
    }
   ],
   "source": [
    "model.add(Dense (1))\n",
    "model.summary()"
   ]
  },
  {
   "cell_type": "code",
   "execution_count": 12,
   "metadata": {
    "id": "l5OuN6oVj3Yf"
   },
   "outputs": [],
   "source": [
    "model.compile(loss= 'mean_squared_error', optimizer='adam')"
   ]
  },
  {
   "cell_type": "code",
   "execution_count": 13,
   "metadata": {
    "colab": {
     "base_uri": "https://localhost:8080/"
    },
    "id": "LPkJqBkTlE9s",
    "outputId": "2615a723-a88f-4865-8a37-c5476d3969cf"
   },
   "outputs": [
    {
     "name": "stdout",
     "output_type": "stream",
     "text": [
      "Epoch 1/50\n",
      "84/84 [==============================] - 7s 34ms/step - loss: 0.0021 - val_loss: 9.0857e-04\n",
      "Epoch 2/50\n",
      "84/84 [==============================] - 2s 24ms/step - loss: 1.2624e-04 - val_loss: 8.8293e-04\n",
      "Epoch 3/50\n",
      "84/84 [==============================] - 2s 21ms/step - loss: 1.2536e-04 - val_loss: 7.8497e-04\n",
      "Epoch 4/50\n",
      "84/84 [==============================] - 2s 19ms/step - loss: 1.2326e-04 - val_loss: 0.0010\n",
      "Epoch 5/50\n",
      "84/84 [==============================] - 2s 19ms/step - loss: 1.2401e-04 - val_loss: 8.0973e-04\n",
      "Epoch 6/50\n",
      "84/84 [==============================] - 2s 22ms/step - loss: 1.2322e-04 - val_loss: 8.0482e-04\n",
      "Epoch 7/50\n",
      "84/84 [==============================] - 2s 23ms/step - loss: 1.3275e-04 - val_loss: 9.5562e-04\n",
      "Epoch 8/50\n",
      "84/84 [==============================] - 2s 24ms/step - loss: 1.2850e-04 - val_loss: 7.5660e-04\n",
      "Epoch 9/50\n",
      "84/84 [==============================] - 2s 24ms/step - loss: 1.1688e-04 - val_loss: 0.0010\n",
      "Epoch 10/50\n",
      "84/84 [==============================] - 2s 22ms/step - loss: 1.1394e-04 - val_loss: 9.5506e-04\n",
      "Epoch 11/50\n",
      "84/84 [==============================] - 2s 23ms/step - loss: 1.1443e-04 - val_loss: 6.8401e-04\n",
      "Epoch 12/50\n",
      "84/84 [==============================] - 2s 22ms/step - loss: 1.2536e-04 - val_loss: 0.0015\n",
      "Epoch 13/50\n",
      "84/84 [==============================] - 2s 21ms/step - loss: 1.1387e-04 - val_loss: 8.2027e-04\n",
      "Epoch 14/50\n",
      "84/84 [==============================] - 2s 24ms/step - loss: 1.0510e-04 - val_loss: 6.0874e-04\n",
      "Epoch 15/50\n",
      "84/84 [==============================] - 2s 25ms/step - loss: 9.8460e-05 - val_loss: 0.0010\n",
      "Epoch 16/50\n",
      "84/84 [==============================] - 2s 24ms/step - loss: 1.0607e-04 - val_loss: 5.7514e-04\n",
      "Epoch 17/50\n",
      "84/84 [==============================] - 2s 19ms/step - loss: 9.4435e-05 - val_loss: 6.3205e-04\n",
      "Epoch 18/50\n",
      "84/84 [==============================] - 2s 21ms/step - loss: 9.1523e-05 - val_loss: 5.2532e-04\n",
      "Epoch 19/50\n",
      "84/84 [==============================] - 2s 19ms/step - loss: 9.3489e-05 - val_loss: 7.4015e-04\n",
      "Epoch 20/50\n",
      "84/84 [==============================] - 2s 20ms/step - loss: 8.0303e-05 - val_loss: 7.1564e-04\n",
      "Epoch 21/50\n",
      "84/84 [==============================] - 2s 24ms/step - loss: 8.2955e-05 - val_loss: 5.1629e-04\n",
      "Epoch 22/50\n",
      "84/84 [==============================] - 2s 25ms/step - loss: 8.4028e-05 - val_loss: 3.9925e-04\n",
      "Epoch 23/50\n",
      "84/84 [==============================] - 2s 20ms/step - loss: 7.1777e-05 - val_loss: 3.5293e-04\n",
      "Epoch 24/50\n",
      "84/84 [==============================] - 2s 25ms/step - loss: 7.2737e-05 - val_loss: 3.5684e-04\n",
      "Epoch 25/50\n",
      "84/84 [==============================] - 2s 23ms/step - loss: 8.5519e-05 - val_loss: 4.6112e-04\n",
      "Epoch 26/50\n",
      "84/84 [==============================] - 2s 23ms/step - loss: 7.6449e-05 - val_loss: 3.2098e-04\n",
      "Epoch 27/50\n",
      "84/84 [==============================] - 2s 24ms/step - loss: 6.8912e-05 - val_loss: 4.0752e-04\n",
      "Epoch 28/50\n",
      "84/84 [==============================] - 2s 24ms/step - loss: 6.2025e-05 - val_loss: 3.4961e-04\n",
      "Epoch 29/50\n",
      "84/84 [==============================] - 2s 21ms/step - loss: 6.0062e-05 - val_loss: 2.9871e-04\n",
      "Epoch 30/50\n",
      "84/84 [==============================] - 2s 20ms/step - loss: 6.1455e-05 - val_loss: 4.0281e-04\n",
      "Epoch 31/50\n",
      "84/84 [==============================] - 2s 23ms/step - loss: 6.0868e-05 - val_loss: 3.1346e-04\n",
      "Epoch 32/50\n",
      "84/84 [==============================] - 2s 22ms/step - loss: 5.6287e-05 - val_loss: 3.2122e-04\n",
      "Epoch 33/50\n",
      "84/84 [==============================] - 2s 20ms/step - loss: 6.2727e-05 - val_loss: 2.2993e-04\n",
      "Epoch 34/50\n",
      "84/84 [==============================] - 2s 24ms/step - loss: 4.9820e-05 - val_loss: 2.1813e-04\n",
      "Epoch 35/50\n",
      "84/84 [==============================] - 2s 23ms/step - loss: 5.9660e-05 - val_loss: 3.6831e-04\n",
      "Epoch 36/50\n",
      "84/84 [==============================] - 2s 22ms/step - loss: 4.6488e-05 - val_loss: 4.0945e-04\n",
      "Epoch 37/50\n",
      "84/84 [==============================] - 2s 21ms/step - loss: 4.6784e-05 - val_loss: 2.0624e-04\n",
      "Epoch 38/50\n",
      "84/84 [==============================] - 2s 21ms/step - loss: 4.4688e-05 - val_loss: 2.1542e-04\n",
      "Epoch 39/50\n",
      "84/84 [==============================] - 2s 24ms/step - loss: 4.0930e-05 - val_loss: 2.8592e-04\n",
      "Epoch 40/50\n",
      "84/84 [==============================] - 2s 20ms/step - loss: 4.1655e-05 - val_loss: 1.8818e-04\n",
      "Epoch 41/50\n",
      "84/84 [==============================] - 2s 24ms/step - loss: 3.9959e-05 - val_loss: 2.6269e-04\n",
      "Epoch 42/50\n",
      "84/84 [==============================] - 2s 23ms/step - loss: 3.8072e-05 - val_loss: 2.9844e-04\n",
      "Epoch 43/50\n",
      "84/84 [==============================] - 2s 22ms/step - loss: 3.7189e-05 - val_loss: 2.0294e-04\n",
      "Epoch 44/50\n",
      "84/84 [==============================] - 2s 22ms/step - loss: 4.2311e-05 - val_loss: 2.3635e-04\n",
      "Epoch 45/50\n",
      "84/84 [==============================] - 2s 21ms/step - loss: 3.7408e-05 - val_loss: 1.9197e-04\n",
      "Epoch 46/50\n",
      "84/84 [==============================] - 2s 21ms/step - loss: 3.4274e-05 - val_loss: 1.8770e-04\n",
      "Epoch 47/50\n",
      "84/84 [==============================] - 2s 25ms/step - loss: 3.5557e-05 - val_loss: 2.5465e-04\n",
      "Epoch 48/50\n",
      "84/84 [==============================] - 2s 23ms/step - loss: 3.6395e-05 - val_loss: 2.0713e-04\n",
      "Epoch 49/50\n",
      "84/84 [==============================] - 2s 18ms/step - loss: 3.4581e-05 - val_loss: 2.8689e-04\n",
      "Epoch 50/50\n",
      "84/84 [==============================] - 2s 22ms/step - loss: 3.6272e-05 - val_loss: 3.8070e-04\n"
     ]
    },
    {
     "data": {
      "text/plain": [
       "<keras.callbacks.History at 0x7fec910fe8e0>"
      ]
     },
     "execution_count": 13,
     "metadata": {},
     "output_type": "execute_result"
    }
   ],
   "source": [
    "model.fit(X_train,y_train,validation_data=(X_test,ytest), epochs=50,batch_size=64, verbose = 1)"
   ]
  },
  {
   "cell_type": "code",
   "execution_count": null,
   "metadata": {},
   "outputs": [],
   "source": []
  }
 ],
 "metadata": {
  "colab": {
   "provenance": []
  },
  "kernelspec": {
   "display_name": "Python 3.9",
   "language": "python",
   "name": "python3"
  },
  "language_info": {
   "codemirror_mode": {
    "name": "ipython",
    "version": 3
   },
   "file_extension": ".py",
   "mimetype": "text/x-python",
   "name": "python",
   "nbconvert_exporter": "python",
   "pygments_lexer": "ipython3",
   "version": "3.9.13"
  }
 },
 "nbformat": 4,
 "nbformat_minor": 1
}
